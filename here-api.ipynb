{
 "cells": [
  {
   "cell_type": "code",
   "execution_count": 5,
   "metadata": {},
   "outputs": [],
   "source": [
    "import InfoAPI\n",
    "import requests\n",
    "import json\n",
    "\n",
    "keys = InfoAPI.InfoAPI()"
   ]
  },
  {
   "cell_type": "code",
   "execution_count": 13,
   "metadata": {},
   "outputs": [],
   "source": [
    "def main(a, b):\n",
    "    \"\"\"Gets travel summary\"\"\"\n",
    "    if len(a) or len(b):\n",
    "        search = a\n",
    "        search_2 = b\n",
    "    else:\n",
    "        search = input(\"Address 1\\n>>>> \")\n",
    "        search_2 = input(\"Address 2\\n>>>> \")\n",
    "        \n",
    "    lat, long, lat_2, long_2 = get_geo(search, search_2)\n",
    "    return get_route(lat, long, lat_2, long_2)"
   ]
  },
  {
   "cell_type": "code",
   "execution_count": 3,
   "metadata": {},
   "outputs": [],
   "source": [
    "def get_geo(search_text_1, search_text_2):\n",
    "    \"\"\"Calculates route\n",
    "    \n",
    "    Parameters\n",
    "    ----------\n",
    "    search_text_1 : string\n",
    "        Address in format [number street, city, state zipcode]\n",
    "        \n",
    "    search_text_2 : string\n",
    "        Address in format [number street, city, state zipcode]\n",
    "        \n",
    "    Returns\n",
    "    -------\n",
    "    lat : float\n",
    "        First geographic latitude location.\n",
    "        \n",
    "    long : float\n",
    "        First geographic longitude location.\n",
    "        \n",
    "    lat_2 : float\n",
    "        Second geographic latitude location.\n",
    "        \n",
    "    long_2 : float\n",
    "        Second geographic longitude location.\n",
    "        \n",
    "    \"\"\"\n",
    "    \n",
    "    BASE_GEO = \"https://geocoder.api.here.com/6.2/geocode.json\"\n",
    "    \n",
    "    params_geo = {\n",
    "        \"app_id\": keys.APP_ID,\n",
    "        \"app_code\": keys.APP_CODE,\n",
    "        \"searchtext\": search_text_1,\n",
    "    }\n",
    "    \n",
    "    req = requests.get(BASE_GEO, params=params_geo)\n",
    "    info = req.json()[\"Response\"]\n",
    "\n",
    "    lat, long = info['View'][0][\"Result\"][0][\"Location\"][\"DisplayPosition\"].values()\n",
    "    \n",
    "    params_geo['searchtext'] = search_text_2\n",
    "    \n",
    "    req = requests.get(BASE_GEO, params=params_geo)\n",
    "    info = req.json()[\"Response\"]\n",
    "\n",
    "    lat_2, long_2 = info['View'][0][\"Result\"][0][\"Location\"][\"DisplayPosition\"].values()\n",
    "    \n",
    "    return (lat, long, lat_2, long_2)"
   ]
  },
  {
   "cell_type": "code",
   "execution_count": 7,
   "metadata": {},
   "outputs": [],
   "source": [
    "def get_route(lat, long, lat_2, long_2):\n",
    "    \"\"\"Calculates route\n",
    "    \n",
    "    Parameters\n",
    "    ----------\n",
    "    lat : float\n",
    "        First geographic latitude location.\n",
    "        \n",
    "    long : float\n",
    "        First geographic longitude location.\n",
    "        \n",
    "    lat_2 : float\n",
    "        Second geographic latitude location.\n",
    "        \n",
    "    long_2 : float\n",
    "        Second geographic longitude location.\n",
    "        \n",
    "    Returns\n",
    "    -------\n",
    "    total_time : float\n",
    "        In minutes.\n",
    "    \n",
    "    traffic_time : float\n",
    "        In minutes.\n",
    "        \n",
    "    traffic_percent : float\n",
    "        \n",
    "        \n",
    "    flags : list\n",
    "    \n",
    "    \"\"\"\n",
    "    BASE_ROUTING = \"https://route.api.here.com/routing/7.2/calculateroute.json\"\n",
    "    \n",
    "    params_routing = {\n",
    "    \"app_id\": keys.APP_ID,\n",
    "    \"app_code\": keys.APP_CODE,\n",
    "    \"waypoint0\": \"geo!\" + str(lat) + \",\" + str(long),\n",
    "    \"waypoint1\": \"geo!\" + str(lat_2) + \",\" + str(long_2),\n",
    "    \"mode\": \"fastest;car;traffic:enabled\",\n",
    "    }\n",
    "    \n",
    "    req = requests.get(BASE_ROUTING, params=params_routing)\n",
    "\n",
    "    info = req.json()['response']\n",
    "    summary = info['route'][0]['summary']\n",
    "\n",
    "    total_time = summary['travelTime'] / 60\n",
    "    traffic_time = (summary['trafficTime'] - summary['baseTime']) / 60\n",
    "    traffic_percent = traffic_time / summary['baseTime']\n",
    "    flags = summary['flags']\n",
    "    \n",
    "    return {\"Total Time\": total_time,\n",
    "            \"Traffic Time\": traffic_time,\n",
    "            \"Traffic Percent\": traffic_percent,\n",
    "            \"Flags\": flags}"
   ]
  },
  {
   "cell_type": "code",
   "execution_count": 14,
   "metadata": {},
   "outputs": [],
   "source": [
    "results = main(\"Killeen, TX\", \"Austin, TX\")"
   ]
  },
  {
   "cell_type": "code",
   "execution_count": 16,
   "metadata": {},
   "outputs": [
    {
     "name": "stdout",
     "output_type": "stream",
     "text": [
      "{'Total Time': 86.55, 'Traffic Time': 3.55, 'Traffic Percent': 0.0007128514056224899, 'Flags': ['tollroad', 'motorway', 'builtUpArea']}\n"
     ]
    }
   ],
   "source": [
    "print(results)"
   ]
  }
 ],
 "metadata": {
  "kernelspec": {
   "display_name": "Python 3",
   "language": "python",
   "name": "python3"
  },
  "language_info": {
   "codemirror_mode": {
    "name": "ipython",
    "version": 3
   },
   "file_extension": ".py",
   "mimetype": "text/x-python",
   "name": "python",
   "nbconvert_exporter": "python",
   "pygments_lexer": "ipython3",
   "version": "3.7.2"
  }
 },
 "nbformat": 4,
 "nbformat_minor": 2
}
